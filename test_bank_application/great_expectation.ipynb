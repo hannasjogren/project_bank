{
 "cells": [
  {
   "cell_type": "code",
   "execution_count": null,
   "id": "initial_id",
   "metadata": {
    "collapsed": true
   },
   "outputs": [],
   "source": [
    "import great_expectations as gx\n",
    "import pandas as pd\n",
    "import warnings\n",
    "warnings.filterwarnings(\"ignore\", message=\"`result_format` configured at the Validator-level*\")\n",
    "\n",
    "# Load the data\n",
    "df = pd.read_csv(\"\")\n",
    "\n",
    "# Create the ephemeral GX context\n",
    "context = gx.get_context()\n",
    "\n",
    "# Add a pandas datasource\n",
    "data_source = context.data_sources.add_pandas(name=\"pandas\")\n",
    "\n",
    "# Add a dataframe asset\n",
    "data_asset = data_source.add_dataframe_asset(name=\"yellow_cab_data\")\n",
    "\n",
    "# Define the batch (entire DataFrame)\n",
    "batch_definition = data_asset.add_batch_definition_whole_dataframe(name=\"batch_def\")\n",
    "batch = batch_definition.get_batch(batch_parameters={\"dataframe\": df})\n",
    "\n",
    "# Create the expectation suite with a name\n",
    "suite = gx.core.expectation_suite.ExpectationSuite(name=\"yellow_cab_suite\")\n",
    "\n",
    "# Get the validator using the suite\n",
    "validator = context.get_validator(batch=batch, expectation_suite=suite)\n",
    "\n",
    "# Add expectations\n",
    "validator.expect_column_values_to_be_between(\"passenger_count\", min_value=1, max_value=6)\n",
    "validator.expect_column_values_to_be_between(\"trip_distance\", min_value=0.5, max_value=1000)\n",
    "\n",
    "# Validate\n",
    "results = validator.validate()\n",
    "\n",
    "# Print results\n",
    "print(results)"
   ]
  }
 ],
 "metadata": {
  "kernelspec": {
   "display_name": "Python 3",
   "language": "python",
   "name": "python3"
  },
  "language_info": {
   "codemirror_mode": {
    "name": "ipython",
    "version": 2
   },
   "file_extension": ".py",
   "mimetype": "text/x-python",
   "name": "python",
   "nbconvert_exporter": "python",
   "pygments_lexer": "ipython2",
   "version": "2.7.6"
  }
 },
 "nbformat": 4,
 "nbformat_minor": 5
}
