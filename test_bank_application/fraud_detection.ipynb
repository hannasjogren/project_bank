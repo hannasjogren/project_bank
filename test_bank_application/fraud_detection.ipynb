{
 "cells": [
  {
   "metadata": {
    "ExecuteTime": {
     "end_time": "2025-05-25T15:00:00.361094Z",
     "start_time": "2025-05-25T14:59:59.833636Z"
    }
   },
   "cell_type": "code",
   "source": "import pandas as pd",
   "id": "6ca2489207beffe9",
   "outputs": [],
   "execution_count": 1
  },
  {
   "metadata": {
    "ExecuteTime": {
     "end_time": "2025-05-25T15:00:00.589833Z",
     "start_time": "2025-05-25T15:00:00.489517Z"
    }
   },
   "cell_type": "code",
   "source": [
    "df_fraud_detection = pd.read_pickle(\"data/cleaned_transaction.pk1\")\n",
    "df_fraud_detection = df_fraud_detection.copy()"
   ],
   "id": "15f53cc7e6946452",
   "outputs": [],
   "execution_count": 2
  },
  {
   "metadata": {
    "ExecuteTime": {
     "end_time": "2025-05-25T15:00:00.619403Z",
     "start_time": "2025-05-25T15:00:00.615851Z"
    }
   },
   "cell_type": "code",
   "source": [
    "#df_fraud_detection[\n",
    "    #(df_fraud_detection[\"sender_country\"] == \"Sweden\") &\n",
    "    #(df_fraud_detection[\"transaction_type\"] == \"outgoing\")]"
   ],
   "id": "c796a3c7bbe2627",
   "outputs": [],
   "execution_count": 3
  },
  {
   "metadata": {
    "ExecuteTime": {
     "end_time": "2025-05-25T15:00:00.833169Z",
     "start_time": "2025-05-25T15:00:00.634912Z"
    }
   },
   "cell_type": "code",
   "source": [
    "# High amount detection\n",
    "high_amount_threshold = df_fraud_detection[\"amount\"].quantile(0.98)\n",
    "# high_amount_threshold = 199999\n",
    "\n",
    "with open(\"logging_folder/high_amount_log\", \"a\") as log:\n",
    "    for row in df_fraud_detection.itertuples():\n",
    "        if (\n",
    "            row.sender_country == \"Sweden\" and\n",
    "            row.transaction_type == \"outgoing\" and\n",
    "            row.amount > high_amount_threshold\n",
    "        ):\n",
    "            log.write(f\"{row.transaction_id}: Amount flagged {row.amount}\\n\")\n",
    "    print(\"Loggen för höga belopp har fyllts i.\")"
   ],
   "id": "81cf1c330dce04ca",
   "outputs": [
    {
     "name": "stdout",
     "output_type": "stream",
     "text": [
      "Loggen för höga belopp har fyllts i.\n"
     ]
    }
   ],
   "execution_count": 4
  },
  {
   "metadata": {
    "ExecuteTime": {
     "end_time": "2025-05-25T15:00:01.074393Z",
     "start_time": "2025-05-25T15:00:00.852772Z"
    }
   },
   "cell_type": "code",
   "source": [
    "# Country based warnings\n",
    "black_list = [\"Iran\", \"Myanmar\", \"Democratic People's Republic of Korea\"]\n",
    "\n",
    "gray_list = [\n",
    "    \"Algeria\", \"Angola\", \"Bulgaria\", \"Burkina Faso\", \"Cameroon\",\n",
    "    \"Côte d'Ivoire\", \"Croatia\", \"Democratic Republic of Congo\", \"Haiti\", \"Kenya\",\n",
    "    \"Lao People's Democratic Republic\", \"Lebanon\", \"Mali\", \"Monaco\", \"Mozambique\",\n",
    "    \"Namibia\", \"Nepal\", \"Nigeria\", \"South Africa\", \"South Sudan\", \"Syria\",\n",
    "    \"Tanzania\", \"Venezuela\", \"Vietnam\", \"Yemen\"\n",
    "]\n",
    "\n",
    "with open(\"logging_folder/blacklisted_countrys_log\", \"a\") as blacklisted_log, \\\n",
    "     open(\"logging_folder/graylisted_countries_log\", \"a\") as graylisted_log, \\\n",
    "     open(\"logging_folder/missing_country_log\", \"a\") as missing_country_log:\n",
    "\n",
    "    for row in df_fraud_detection.itertuples():\n",
    "        receiver_country_str = str(row.receiver_country).strip()\n",
    "\n",
    "        if row.sender_country == \"Sweden\" and row.transaction_type == \"outgoing\":\n",
    "            if receiver_country_str in black_list:\n",
    "                blacklisted_log.write(\n",
    "                    f\"{row.transaction_id}: Warning Blacklisted {row.receiver_country}: Amount sent {row.amount}\\n\"\n",
    "                )\n",
    "            elif receiver_country_str in gray_list:\n",
    "                graylisted_log.write(\n",
    "                    f\"{row.transaction_id}: Warning Graylisted {row.receiver_country}: Amount sent {row.amount}\\n\"\n",
    "                )\n",
    "            elif receiver_country_str == \"\" or pd.isna(row.receiver_country):\n",
    "                missing_country_log.write(\n",
    "                    f\"{row.transaction_id}: Warning Missing Country: Amount sent {row.amount}\\n\"\n",
    "                )"
   ],
   "id": "dd7c1246da319525",
   "outputs": [],
   "execution_count": 5
  },
  {
   "metadata": {
    "ExecuteTime": {
     "end_time": "2025-05-25T15:00:01.249128Z",
     "start_time": "2025-05-25T15:00:01.080075Z"
    }
   },
   "cell_type": "code",
   "source": [
    "# Frequent transactions detection\n",
    "df_sweden_outgoing = df_fraud_detection[\n",
    "    (df_fraud_detection[\"sender_country\"] == \"Sweden\") &\n",
    "    (df_fraud_detection[\"transaction_type\"] == \"outgoing\")\n",
    "].copy()\n",
    "\n",
    "df_sweden_outgoing[\"date\"] = df_sweden_outgoing[\"timestamp\"].dt.date\n",
    "\n",
    "daily_counts = df_sweden_outgoing.groupby([\"sender_account\", \"date\"]).size().reset_index(name=\"daily_transaction_count\")\n",
    "\n",
    "df_sweden_outgoing = df_sweden_outgoing.merge(daily_counts, on=[\"sender_account\", \"date\"])\n",
    "\n",
    "with open(\"logging_folder/frequent_amount_transactions_log\", \"a\") as log:\n",
    "    for row in df_sweden_outgoing.itertuples():\n",
    "        if row.daily_transaction_count > 35:\n",
    "            log.write(\n",
    "                f\"{row.transaction_id}: {row.sender_account} gjorde {row.daily_transaction_count} transaktioner den {row.date}\\n\"\n",
    "            )"
   ],
   "id": "80881c06c96a976",
   "outputs": [],
   "execution_count": 6
  },
  {
   "metadata": {
    "ExecuteTime": {
     "end_time": "2025-05-25T15:00:01.387221Z",
     "start_time": "2025-05-25T15:00:01.275340Z"
    }
   },
   "cell_type": "code",
   "source": [
    "# Odd notes warning\n",
    "suspicious_keywords = [\"gift\",\"test\", \"ok\", \"cash\"]\n",
    "amount_threshold = 8000\n",
    "log_notes_amount_condition = \"above\"\n",
    "\n",
    "with open(\"logging_folder/odd_notes_detection_log.txt\", \"a\") as odd_notes_log:\n",
    "    for row in df_sweden_outgoing.itertuples():\n",
    "        current_notes = str(row.notes).strip()\n",
    "        should_check_notes = False\n",
    "        amount_condition_description = \"\"\n",
    "\n",
    "        if log_notes_amount_condition == \"above\":\n",
    "            if row.amount > amount_threshold:\n",
    "                should_check_notes = True\n",
    "                amount_condition_description = f\"Amount higher than {amount_threshold}\"\n",
    "        elif log_notes_amount_condition == \"below\":\n",
    "            if row.amount < amount_threshold:\n",
    "                should_check_notes = True\n",
    "                amount_condition_description = f\"Amount < {amount_threshold:.2f}\"\n",
    "        else:\n",
    "            print(f\"Warning: Above threshold '{log_notes_amount_condition}'\")\n",
    "            break\n",
    "\n",
    "        if should_check_notes:\n",
    "            log_prefix = f\"{row.transaction_id} {amount_condition_description} \"\n",
    "\n",
    "            if current_notes == \"\":\n",
    "                odd_notes_log.write(f\"{log_prefix}No note was added\\n\")\n",
    "            elif any(keyword in current_notes.lower() for keyword in suspicious_keywords):\n",
    "                odd_notes_log.write(f\"{log_prefix}Suspicious notes: {row.notes}\\n\")"
   ],
   "id": "e17413ee1e5d82f8",
   "outputs": [],
   "execution_count": 7
  }
 ],
 "metadata": {
  "kernelspec": {
   "display_name": "Python 3",
   "language": "python",
   "name": "python3"
  },
  "language_info": {
   "codemirror_mode": {
    "name": "ipython",
    "version": 2
   },
   "file_extension": ".py",
   "mimetype": "text/x-python",
   "name": "python",
   "nbconvert_exporter": "python",
   "pygments_lexer": "ipython2",
   "version": "2.7.6"
  }
 },
 "nbformat": 4,
 "nbformat_minor": 5
}
